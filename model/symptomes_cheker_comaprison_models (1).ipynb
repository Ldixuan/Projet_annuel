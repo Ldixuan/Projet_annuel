{
  "nbformat": 4,
  "nbformat_minor": 0,
  "metadata": {
    "colab": {
      "name": "symptomes_cheker_comaprison_models.ipynb",
      "private_outputs": true,
      "provenance": [],
      "collapsed_sections": []
    },
    "kernelspec": {
      "name": "python3",
      "display_name": "Python 3"
    },
    "language_info": {
      "name": "python"
    }
  },
  "cells": [
    {
      "cell_type": "code",
      "metadata": {
        "id": "TpFJnPj6O6o-"
      },
      "source": [
        "from sklearn.linear_model import LogisticRegression\n",
        "from sklearn import decomposition\n",
        "from sklearn.model_selection import StratifiedKFold\n",
        "from sklearn.model_selection import GridSearchCV\n",
        "from sklearn.metrics import make_scorer\n",
        "from sklearn.metrics import accuracy_score\n",
        "from sklearn.pipeline import Pipeline\n",
        "from sklearn import metrics\n",
        "import pandas as pd\n",
        "import numpy as np\n",
        "from sklearn.model_selection import train_test_split\n",
        "from sklearn.preprocessing import StandardScaler \n",
        "from xgboost import XGBClassifier\n",
        "import xgboost as xgb\n",
        "import pandas as pd\n",
        "from sklearn.model_selection import train_test_split\n",
        "from sklearn.metrics import classification_report, confusion_matrix\n",
        "\n",
        "from sklearn.metrics import mean_squared_error\n",
        "import numpy as np\n",
        "from pandas import read_csv\n",
        "from sklearn.metrics import accuracy_score\n",
        "\n",
        "from sklearn.metrics import roc_curve\n",
        "from sklearn.metrics import roc_auc_score\n",
        "from matplotlib import pyplot"
      ],
      "execution_count": null,
      "outputs": []
    },
    {
      "cell_type": "code",
      "metadata": {
        "id": "MtZ0aceCPKuI"
      },
      "source": [
        "df = pd.read_csv(\"data_symptomes_checker_data (1).csv\")#, header=0, sep=\",\")\n",
        "df"
      ],
      "execution_count": null,
      "outputs": []
    },
    {
      "cell_type": "markdown",
      "metadata": {
        "id": "jPNhIApxSZqW"
      },
      "source": [
        "\n",
        "\n",
        "# Missing value "
      ]
    },
    {
      "cell_type": "code",
      "metadata": {
        "id": "exG8asiEQQOR"
      },
      "source": [
        "df.isna().sum()"
      ],
      "execution_count": null,
      "outputs": []
    },
    {
      "cell_type": "code",
      "metadata": {
        "id": "X0kMMqxySIsT"
      },
      "source": [
        "df =df[df[\"result\"]!=\"other\"]"
      ],
      "execution_count": null,
      "outputs": []
    },
    {
      "cell_type": "markdown",
      "metadata": {
        "id": "40_OhhgZS24x"
      },
      "source": [
        "# Encoding Categorical Data"
      ]
    },
    {
      "cell_type": "code",
      "metadata": {
        "id": "ueGrhSYPalpv"
      },
      "source": [
        "\n",
        "# with get dumies : \n",
        "removeList = [\t\"Age_60_and_above\",\t\"Gender\",\t\"Test_indication\"]\n",
        "for i in removeList:\n",
        "    df = pd.concat([df,pd.get_dummies(df[i], prefix=i)],axis=1)\n",
        "df = df.drop(columns=removeList)\n"
      ],
      "execution_count": null,
      "outputs": []
    },
    {
      "cell_type": "code",
      "metadata": {
        "id": "U34oaoe5SrD0"
      },
      "source": [
        "from sklearn.preprocessing import LabelEncoder\n",
        "print(df[\"result\"].unique())\n",
        "le = LabelEncoder()\n",
        "#for feat in [\"corona_result\",\t\"age_60_and_above\",\t\"gender\",\t\"test_indication\"]:\n",
        "df[\"result\"] = le.fit_transform(df[\"result\"].astype(str))\n",
        "\n",
        "\n",
        "\n"
      ],
      "execution_count": null,
      "outputs": []
    },
    {
      "cell_type": "code",
      "metadata": {
        "id": "64iruQTqHMYp"
      },
      "source": [
        "df =df.drop(columns=[\"Unnamed: 0\"])"
      ],
      "execution_count": null,
      "outputs": []
    },
    {
      "cell_type": "code",
      "metadata": {
        "id": "aMMa55ThW8sf"
      },
      "source": [
        "df"
      ],
      "execution_count": null,
      "outputs": []
    },
    {
      "cell_type": "code",
      "metadata": {
        "id": "cJsrrLosVpj0"
      },
      "source": [
        "df=df.drop_duplicates()"
      ],
      "execution_count": null,
      "outputs": []
    },
    {
      "cell_type": "code",
      "metadata": {
        "id": "2B3JhUe1ScMD"
      },
      "source": [
        "infection_list =df[\"result\"].values\n",
        "data=df.drop(columns=[\"result\"])\n",
        "data"
      ],
      "execution_count": null,
      "outputs": []
    },
    {
      "cell_type": "markdown",
      "metadata": {
        "id": "wmlKxZ66o25s"
      },
      "source": [
        "# Distribution des classes :"
      ]
    },
    {
      "cell_type": "code",
      "metadata": {
        "id": "NdS8HW-tFgho"
      },
      "source": [
        "print( \"nbre de valeurs pour 0 \",df[df[\"result\"]==0].count()[1]/df.count()[1]*100)\n",
        "print( \"nbre de valeurs pour 1 \", df[df[\"result\"]==1].count()[1]/df.count()[1]*100)"
      ],
      "execution_count": null,
      "outputs": []
    },
    {
      "cell_type": "code",
      "metadata": {
        "id": "vJ1OLbRWA9UG"
      },
      "source": [
        "import seaborn as sns\n",
        "sns.histplot( x=infection_list)"
      ],
      "execution_count": null,
      "outputs": []
    },
    {
      "cell_type": "code",
      "metadata": {
        "id": "x3y6pUvg7fRw"
      },
      "source": [
        "#j'essaye avec drop duplicate et sans duplication : \n",
        "#des modeles simples \n",
        "data"
      ],
      "execution_count": null,
      "outputs": []
    },
    {
      "cell_type": "markdown",
      "metadata": {
        "id": "ByUneSFfo8qR"
      },
      "source": [
        "# Models"
      ]
    },
    {
      "cell_type": "markdown",
      "metadata": {
        "id": "XZ8EeTB0pAg-"
      },
      "source": [
        " ## Logistic Regression "
      ]
    },
    {
      "cell_type": "code",
      "metadata": {
        "id": "Oy95cEYz-5lY"
      },
      "source": [
        "std_slc = StandardScaler()\n",
        "pca = decomposition.PCA()\n",
        "logistic_Reg = LogisticRegression(penalty='l2', max_iter=100)\n",
        "\n",
        "#('std_slc', std_slc),\n",
        "pipe = Pipeline(steps=[\n",
        "                      ('logistic_Reg', logistic_Reg)])\n",
        "\n",
        "param_grid = {\"logistic_Reg__C\": np.logspace(-5, 5, 7)}\n",
        "\n",
        "clf = GridSearchCV(pipe, param_grid, cv=StratifiedKFold(4), scoring='accuracy', verbose=2)\n",
        "clf.fit(data, infection_list)\n",
        "print(\" ########################results##############################\")\n",
        "print(clf.best_score_)\n",
        "print(clf.best_estimator_)\n",
        "print(clf.best_params_)\n",
        "\n"
      ],
      "execution_count": null,
      "outputs": []
    },
    {
      "cell_type": "markdown",
      "metadata": {
        "id": "TxJ4NTYJpOCO"
      },
      "source": [
        " ## Decision Tree Classifier"
      ]
    },
    {
      "cell_type": "code",
      "metadata": {
        "id": "6VBpppvdiMlL"
      },
      "source": [
        "X_train, X_test, y_train, y_test = train_test_split(data, infection_list, test_size=0.20, random_state=42)"
      ],
      "execution_count": null,
      "outputs": []
    },
    {
      "cell_type": "code",
      "metadata": {
        "id": "eR8ThPeIpOVY"
      },
      "source": [
        "from sklearn.tree import DecisionTreeClassifier\n",
        "\n",
        "clf = DecisionTreeClassifier(min_samples_leaf=5, max_depth=3)\n",
        "\n",
        "\n",
        "\n",
        "clf=clf.fit(X_train, y_train)\n",
        "clf.score(X_test, y_test)"
      ],
      "execution_count": null,
      "outputs": []
    },
    {
      "cell_type": "markdown",
      "metadata": {
        "id": "QPyCegLmpeIg"
      },
      "source": [
        "## LGBM Classifier with grid search "
      ]
    },
    {
      "cell_type": "code",
      "metadata": {
        "id": "A3Ke92NuCYCF"
      },
      "source": [
        "from sklearn import datasets\n",
        "from sklearn.model_selection import train_test_split\n",
        "from sklearn.model_selection import RandomizedSearchCV\n",
        "from scipy.stats import uniform as sp_randFloat\n",
        "from scipy.stats import randint as sp_randInt    \n",
        "from lightgbm import LGBMClassifier\n",
        "\n",
        "\n",
        "model = LGBMClassifier()\n",
        "parameters = {'max_depth' : sp_randInt(3, 10)\n",
        "                 }\n",
        "\n",
        "randm = RandomizedSearchCV(estimator=model, param_distributions = parameters, \n",
        "                               cv = 5, n_iter = 30, n_jobs=-1)\n",
        "randm.fit(data, infection_list)\n",
        "\n",
        "#Random_search\n",
        "print(\"\\n The best estimator :\\n\",randm.best_estimator_)\n",
        "    \n",
        "print(\"\\n The best score :\\n\",randm.best_score_)\n",
        "    \n",
        "print(\"\\n The best parameters :\\n\", randm.best_params_)\n",
        "  \n",
        "\n",
        "    "
      ],
      "execution_count": null,
      "outputs": []
    },
    {
      "cell_type": "markdown",
      "metadata": {
        "id": "-H3Ts7w2Cus-"
      },
      "source": [
        "## Xgboost Classifier\n",
        "\n"
      ]
    },
    {
      "cell_type": "code",
      "metadata": {
        "id": "kDd3KTDHEuIe"
      },
      "source": [
        "XGBCL = XGBClassifier()\n",
        "classifier = XGBCL.fit(X_train, y_train)\n",
        "score = classifier.score(X_test, y_test)\n",
        "preds = classifier.predict(X_test)\n",
        "feature_important = XGBCL.get_booster().get_score(importance_type='weight')\n",
        "keys = list(feature_important.keys())\n",
        "values = list(feature_important.values())\n",
        "\n",
        "data = pd.DataFrame(data=values, index=keys, columns=[\"score\"]).sort_values(by = \"score\", ascending=False)\n",
        "data.plot(kind='barh', color='brown')"
      ],
      "execution_count": null,
      "outputs": []
    },
    {
      "cell_type": "code",
      "metadata": {
        "id": "9LGH5laCO9Le"
      },
      "source": [
        "print(classification_report(preds, y_test))\n",
        "cm = confusion_matrix(preds, y_test)\n",
        "acc = cm.diagonal().sum()/cm.sum()\n",
        "print(acc)\n",
        "print(cm)"
      ],
      "execution_count": null,
      "outputs": []
    },
    {
      "cell_type": "markdown",
      "metadata": {
        "id": "ym9JcxyC1Krs"
      },
      "source": [
        "##Random Forest Classifier"
      ]
    },
    {
      "cell_type": "code",
      "metadata": {
        "id": "aOff_Iiq1LNZ"
      },
      "source": [
        "from sklearn.ensemble import RandomForestClassifier\n",
        "clf =RandomForestClassifier(n_estimators=10, random_state=42)\n",
        "classifier = XGBCL.fit(X_train, y_train)\n",
        "score = classifier.score(X_test, y_test)\n",
        "preds = classifier.predict(X_test)"
      ],
      "execution_count": null,
      "outputs": []
    },
    {
      "cell_type": "code",
      "metadata": {
        "id": "mACuXvNh1llG"
      },
      "source": [
        "print(classification_report(preds, y_test))\n",
        "cm = confusion_matrix(preds, y_test)\n",
        "acc = cm.diagonal().sum()/cm.sum()\n",
        "print(acc)\n",
        "print(cm)"
      ],
      "execution_count": null,
      "outputs": []
    },
    {
      "cell_type": "markdown",
      "metadata": {
        "id": "Om7Bnn4R7jOJ"
      },
      "source": [
        "## Catboost"
      ]
    },
    {
      "cell_type": "code",
      "metadata": {
        "id": "ypHrlIyc7jfn"
      },
      "source": [
        "pip install catboost"
      ],
      "execution_count": null,
      "outputs": []
    },
    {
      "cell_type": "code",
      "metadata": {
        "id": "x-cBTOTV4lCx"
      },
      "source": [
        "\n",
        "import numpy as np\n",
        "import catboost as cb\n",
        "\n",
        "# train default classifier    \n",
        "clf = cb.CatBoostClassifier()\n",
        "\n",
        "\n",
        "clf= clf.fit(X_train, y_train)\n",
        "score = clf.score(X_test, y_test)\n",
        "preds = clf.predict(X_test)\n",
        "\n",
        "print('error:',1-np.mean(preds==np.ravel(y_test)))\n"
      ],
      "execution_count": null,
      "outputs": []
    },
    {
      "cell_type": "code",
      "metadata": {
        "id": "H-MMTTQI7oM6"
      },
      "source": [
        "print(classification_report(preds, y_test))\n",
        "cm = confusion_matrix(preds, y_test)\n",
        "acc = cm.diagonal().sum()/cm.sum()\n",
        "print(\"accuracy\", acc)\n",
        "print(cm)"
      ],
      "execution_count": null,
      "outputs": []
    },
    {
      "cell_type": "markdown",
      "metadata": {
        "id": "gNE1dxVQqirv"
      },
      "source": [
        "## Stacking models "
      ]
    },
    {
      "cell_type": "code",
      "metadata": {
        "id": "lnXOoCip8BVN"
      },
      "source": [
        "from sklearn.datasets import load_iris\n",
        "from sklearn.ensemble import RandomForestClassifier\n",
        "from sklearn.svm import LinearSVC\n",
        "from sklearn.linear_model import LogisticRegression\n",
        "from sklearn.preprocessing import StandardScaler\n",
        "from sklearn.pipeline import make_pipeline\n",
        "from sklearn.ensemble import StackingClassifier\n",
        "from lightgbm import LGBMClassifier\n",
        "estimators = [\n",
        "    ('rf', RandomForestClassifier(n_estimators=10, random_state=42)),\n",
        "    ('lgbm', LGBMClassifier()),\n",
        "    ('catboost',  cb.CatBoostClassifier()),\n",
        "    ('xgb', XGBClassifier()),\n",
        "    ('dec', DecisionTreeClassifier(min_samples_leaf=5, max_depth=3))\n",
        "    \n",
        "]\n",
        "clf = StackingClassifier(\n",
        "    estimators=estimators, final_estimator=LogisticRegression()\n",
        ")\n",
        "\n",
        "\n",
        "clf= clf.fit(X_train, y_train)\n",
        "score = clf.score(X_test, y_test)"
      ],
      "execution_count": null,
      "outputs": []
    },
    {
      "cell_type": "code",
      "metadata": {
        "id": "6y-Z2qS6VKCq"
      },
      "source": [
        "!pip install scikitplot"
      ],
      "execution_count": null,
      "outputs": []
    },
    {
      "cell_type": "code",
      "metadata": {
        "id": "7KZpCQhpXOf5"
      },
      "source": [
        "print(score)\n",
        "preds = clf.predict(X_test)\n",
        "pred_proba= clf.predict_proba(X_test)\n",
        "#print(\"predict prob \", pred_proba)\n",
        "\n",
        "print( \"Classification report\" , classification_report(preds, y_test))\n",
        "cm = confusion_matrix(preds, y_test)\n",
        "acc = cm.diagonal().sum()/cm.sum()\n",
        "print(acc)\n",
        "print(cm)\n",
        "\n",
        "#affichage matrice de confiance\n",
        "class_names= [\"Negative\", \"Positive\"]\n",
        "import matplotlib.pyplot as plt\n",
        "\n",
        "metrics.plot_confusion_matrix(clf , X_test,y_test ,  display_labels=class_names,\n",
        "                                 cmap=plt.cm.Blues)"
      ],
      "execution_count": null,
      "outputs": []
    },
    {
      "cell_type": "code",
      "metadata": {
        "id": "e9iv7icstbzi"
      },
      "source": [
        "lr_probs = clf.predict_proba(X_test)\n",
        "lr_probs = lr_probs[:, 1]\n",
        "ns_probs = [0 for _ in range(len(y_test))]\n",
        "ns_auc = roc_auc_score(y_test, ns_probs)\n",
        "lr_auc = roc_auc_score(y_test, lr_probs)\n",
        "print('No Skill: ROC AUC=%.3f' % (ns_auc))\n",
        "print('Model: ROC AUC=%.3f' % (lr_auc))\n",
        "ns_fpr, ns_tpr, _ = roc_curve(y_test, ns_probs)\n",
        "lr_fpr, lr_tpr, _ = roc_curve(y_test, lr_probs)\n",
        "import matplotlib.pyplot\n",
        "pyplot.plot(ns_fpr, ns_tpr, linestyle='--', label='No Skill')\n",
        "pyplot.plot(lr_fpr, lr_tpr, marker='.', label='stacking models ')\n",
        "pyplot.xlabel('False Positive Rate')\n",
        "pyplot.ylabel('True Positive Rate')\n",
        "pyplot.legend()"
      ],
      "execution_count": null,
      "outputs": []
    }
  ]
}